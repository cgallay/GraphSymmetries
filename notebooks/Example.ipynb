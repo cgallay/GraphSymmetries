{
 "cells": [
  {
   "cell_type": "code",
   "execution_count": 1,
   "metadata": {},
   "outputs": [],
   "source": [
    "import graphSym\n",
    "import torch.nn as nn\n",
    "import numpy as np\n",
    "import torch\n",
    "\n",
    "from graphSym.graph_conv import GridGraphConv\n",
    "from graphSym.graph_pool import GraphMaxPool2d"
   ]
  },
  {
   "cell_type": "code",
   "execution_count": 2,
   "metadata": {},
   "outputs": [],
   "source": [
    "class Net(nn.Module):\n",
    "    \"\"\"\n",
    "    Network with Horizontal symetry\n",
    "    \"\"\"\n",
    "    def __init__(self, input_shape=(32,32), nb_class=5):\n",
    "        super().__init__()\n",
    "        underlying_graphs = [['left', 'right'], ['top'], ['bottom']]\n",
    "        conv1 = GridGraphConv(3, 30, merge_way='cat', underlying_graphs=underlying_graphs)\n",
    "        conv2 = GridGraphConv(30, 60, merge_way='cat', underlying_graphs=underlying_graphs)\n",
    "        \n",
    "        pool1 = GraphMaxPool2d(input_shape=input_shape)\n",
    "        out_shape = (16, 16)\n",
    "        \n",
    "        conv3 = GridGraphConv(60, 60, input_shape=out_shape, merge_way='cat', underlying_graphs=underlying_graphs)\n",
    "        conv4 = GridGraphConv(60, nb_class, input_shape=out_shape, merge_way='mean', underlying_graphs=underlying_graphs)\n",
    "        \n",
    "        self.seq = nn.Sequential(conv1, conv2, pool1, conv3, conv4)\n",
    "        \n",
    "    def forward(self, x):\n",
    "        out = self.seq(x)\n",
    "        out = out.mean(2)\n",
    "        return out\n",
    "\n",
    "net = Net()"
   ]
  },
  {
   "cell_type": "markdown",
   "metadata": {},
   "source": [
    "### Test the invariant property to horizontal mirroring of the network "
   ]
  },
  {
   "cell_type": "code",
   "execution_count": 3,
   "metadata": {},
   "outputs": [],
   "source": [
    "dummy = torch.from_numpy(np.random.randn(2, 3, 32 * 32)).float()\n",
    "dummy2 = dummy.view(2,3,32,32).flip([3]).contiguous().view(2,3,32*32)\n",
    "\n",
    "np.testing.assert_almost_equal(\n",
    "    net(dummy).detach().numpy(),\n",
    "    net(dummy2).detach().numpy(),\n",
    "    decimal=4)"
   ]
  }
 ],
 "metadata": {
  "kernelspec": {
   "display_name": "Python 3",
   "language": "python",
   "name": "python3"
  },
  "language_info": {
   "codemirror_mode": {
    "name": "ipython",
    "version": 3
   },
   "file_extension": ".py",
   "mimetype": "text/x-python",
   "name": "python",
   "nbconvert_exporter": "python",
   "pygments_lexer": "ipython3",
   "version": "3.6.8"
  }
 },
 "nbformat": 4,
 "nbformat_minor": 2
}
